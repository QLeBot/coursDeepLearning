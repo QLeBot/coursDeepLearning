{
 "cells": [
  {
   "cell_type": "code",
   "execution_count": 2,
   "id": "827af5ac",
   "metadata": {},
   "outputs": [],
   "source": [
    "import sys\n",
    "\n",
    "import tensorflow.keras\n",
    "import pandas as pd\n",
    "import sklearn as sk\n",
    "import scipy as sp\n",
    "import tensorflow as tf\n",
    "import platform"
   ]
  },
  {
   "cell_type": "markdown",
   "id": "994454d9",
   "metadata": {},
   "source": [
    "#CHECK ENV AND GPU AVAILABLE"
   ]
  },
  {
   "cell_type": "code",
   "execution_count": 3,
   "id": "fffc67eb",
   "metadata": {},
   "outputs": [
    {
     "name": "stdout",
     "output_type": "stream",
     "text": [
      "Python Platform: macOS-12.6-arm64-arm-64bit\n",
      "Tensor Flow Version: 2.10.0\n",
      "Keras Version: 2.10.0\n",
      "\n",
      "Python 3.8.13 | packaged by conda-forge | (default, Mar 25 2022, 06:05:16) \n",
      "[Clang 12.0.1 ]\n",
      "Pandas 1.5.0\n",
      "Scikit-Learn 1.1.2\n",
      "SciPy 1.9.1\n",
      "GPU is available\n"
     ]
    }
   ],
   "source": [
    "print(f\"Python Platform: {platform.platform()}\")\n",
    "print(f\"Tensor Flow Version: {tf.__version__}\")\n",
    "print(f\"Keras Version: {tensorflow.keras.__version__}\")\n",
    "print()\n",
    "print(f\"Python {sys.version}\")\n",
    "print(f\"Pandas {pd.__version__}\")\n",
    "print(f\"Scikit-Learn {sk.__version__}\")\n",
    "print(f\"SciPy {sp.__version__}\")\n",
    "gpu = len(tf.config.list_physical_devices('GPU'))>0\n",
    "print(\"GPU is\", \"available\" if gpu else \"NOT AVAILABLE\")"
   ]
  },
  {
   "cell_type": "code",
   "execution_count": 4,
   "id": "733e3906",
   "metadata": {},
   "outputs": [],
   "source": [
    "from keras.models import Sequential\n",
    "from keras.layers import Dense"
   ]
  },
  {
   "cell_type": "markdown",
   "id": "de448986",
   "metadata": {},
   "source": [
    "COURS 1"
   ]
  },
  {
   "cell_type": "markdown",
   "id": "d528ca21",
   "metadata": {},
   "source": [
    "Exercice 1"
   ]
  },
  {
   "cell_type": "markdown",
   "id": "833974da",
   "metadata": {},
   "source": [
    "Dans ce premier exercice, on veut créer un réseau de neurones séquentiel simple en utilisant\n",
    "Keras.\n",
    "Le réseau contient deux nombres en entrée, une couche cachée de 10 neurones et, pour finir,\n",
    "un seul nombre non-contraint en sortie.\n",
    "Une sortie non contrainte est obtenue en évitant de définir une fonction d'activation dans la\n",
    "couche de sortie. Ceci est utile pour des problèmes de régression dont la tâche est de prédire\n",
    "une quantité continue."
   ]
  },
  {
   "cell_type": "code",
   "execution_count": 5,
   "id": "ce4b03a3",
   "metadata": {},
   "outputs": [
    {
     "name": "stdout",
     "output_type": "stream",
     "text": [
      "Metal device set to: Apple M1\n"
     ]
    },
    {
     "name": "stderr",
     "output_type": "stream",
     "text": [
      "2022-10-06 12:09:08.681932: I tensorflow/core/common_runtime/pluggable_device/pluggable_device_factory.cc:306] Could not identify NUMA node of platform GPU ID 0, defaulting to 0. Your kernel may not have been built with NUMA support.\n",
      "2022-10-06 12:09:08.682149: I tensorflow/core/common_runtime/pluggable_device/pluggable_device_factory.cc:272] Created TensorFlow device (/job:localhost/replica:0/task:0/device:GPU:0 with 0 MB memory) -> physical PluggableDevice (device: 0, name: METAL, pci bus id: <undefined>)\n"
     ]
    }
   ],
   "source": [
    "model1=Sequential()\n",
    "model1.add(Dense(10, input_shape=(2,)))\n",
    "model1.add(Dense(1))"
   ]
  },
  {
   "cell_type": "markdown",
   "id": "b2ffb9c3",
   "metadata": {},
   "source": [
    "Exercice 2"
   ]
  },
  {
   "cell_type": "markdown",
   "id": "56c39b23",
   "metadata": {},
   "source": [
    "Créer un nouveau modèle séquentiel de 3 couches : une couche d’entrée à 3 neurones, une\n",
    "couche cachée de 5 neurones avec une fonction d’activation relu et un neurone en sortie.\n",
    "1) Le réseau a combien de paramètres ? Expliquer.\n",
    "2) Afficher les paramètres des deux couches denses du réseau."
   ]
  },
  {
   "cell_type": "code",
   "execution_count": 6,
   "id": "d045b591",
   "metadata": {},
   "outputs": [
    {
     "name": "stdout",
     "output_type": "stream",
     "text": [
      "Model: \"sequential_1\"\n",
      "_________________________________________________________________\n",
      " Layer (type)                Output Shape              Param #   \n",
      "=================================================================\n",
      " dense_2 (Dense)             (None, 5)                 20        \n",
      "                                                                 \n",
      " dense_3 (Dense)             (None, 1)                 6         \n",
      "                                                                 \n",
      "=================================================================\n",
      "Total params: 26\n",
      "Trainable params: 26\n",
      "Non-trainable params: 0\n",
      "_________________________________________________________________\n"
     ]
    }
   ],
   "source": [
    "model2=Sequential()\n",
    "model2.add(Dense(5, input_shape=(3,), activation='relu'))\n",
    "model2.add(Dense(1))\n",
    "model2.summary()"
   ]
  },
  {
   "cell_type": "markdown",
   "id": "9a5e2971",
   "metadata": {},
   "source": [
    "Exercice 3"
   ]
  },
  {
   "cell_type": "markdown",
   "id": "2af9313a",
   "metadata": {},
   "source": [
    "1) Initialiser les poids à 1 et les biais à 0 de la couche cachée.\n",
    "2) Calculer les activations de la couche cachée et vérifier le résultat par programme pour\n",
    "les deux exemples : (0.5 , 3) et (-0.75 , 1)."
   ]
  },
  {
   "cell_type": "markdown",
   "id": "210f0435",
   "metadata": {},
   "source": [
    "Exercice 4"
   ]
  },
  {
   "cell_type": "markdown",
   "id": "046bf341",
   "metadata": {},
   "source": [
    "L’objectif de cet exercice est de construire un modèle de régression simple pour prévoir\n",
    "l’orbite d’un météore.\n",
    "Les données d'apprentissage sont constituées de mesures effectuées dans l’intervalles -10\n",
    "minutes avant l'impact jusqu'à +10 minutes après l’impact. Chaque pas de temps peut être vu\n",
    "comme une abscisse temps dans le graphique de la figure 2, au quelle une ordonnée est\n",
    "associée pour renseigner la position du météore à un instant donné.\n",
    "\n",
    "Les données d’apprentissage sont enregistrées dans deux tableaux numpy : time.npy\n",
    "représentant les caractéristiques et positions.npy contenant les sorties.\n",
    "1) Créer un modèle séquentiel avec une couche dense de 50 neurones.\n",
    "2) Ajouter deux autres couches denses de 50 neurones chacune avec relu comme\n",
    "fonction d’activation.\n",
    "3) Ajouter la couche de sortie et définir ses paramètres.\n",
    "4) Configurer le modèle d’apprentissage en utilisant l’optimisateur adam et l’erreur\n",
    "quadratique moyenne pour la minimisation d’erreur.\n",
    "5) Entraîner le modèle avec 30 périodes.\n",
    "6) Prédire les valeurs des positions du météore de -10 à 10 minutes.\n",
    "7) Tracer la trajectoire réelle de l’orbite entre -10 et 10 minutes. Tracer la trajectoire\n",
    "prédite par le modèle."
   ]
  },
  {
   "cell_type": "code",
   "execution_count": 7,
   "id": "657075fe",
   "metadata": {},
   "outputs": [
    {
     "ename": "FileNotFoundError",
     "evalue": "[Errno 2] No such file or directory: 'time.npy'",
     "output_type": "error",
     "traceback": [
      "\u001b[0;31m---------------------------------------------------------------------------\u001b[0m",
      "\u001b[0;31mFileNotFoundError\u001b[0m                         Traceback (most recent call last)",
      "Cell \u001b[0;32mIn [7], line 12\u001b[0m\n\u001b[1;32m      8\u001b[0m model4\u001b[38;5;241m.\u001b[39madd(Dense(\u001b[38;5;241m1\u001b[39m))\n\u001b[1;32m     10\u001b[0m model4\u001b[38;5;241m.\u001b[39mcompile(optimizer\u001b[38;5;241m=\u001b[39m\u001b[38;5;124m'\u001b[39m\u001b[38;5;124madam\u001b[39m\u001b[38;5;124m'\u001b[39m, loss\u001b[38;5;241m=\u001b[39m\u001b[38;5;124m'\u001b[39m\u001b[38;5;124mmse\u001b[39m\u001b[38;5;124m'\u001b[39m)\n\u001b[0;32m---> 12\u001b[0m X\u001b[38;5;241m=\u001b[39mnp\u001b[38;5;241m.\u001b[39mload(\u001b[38;5;124m'\u001b[39m\u001b[38;5;124mtime.npy\u001b[39m\u001b[38;5;124m'\u001b[39m)\n\u001b[1;32m     13\u001b[0m y\u001b[38;5;241m=\u001b[39mnp\u001b[38;5;241m.\u001b[39mload(\u001b[38;5;124m'\u001b[39m\u001b[38;5;124mposition.npy\u001b[39m\u001b[38;5;124m'\u001b[39m)\n",
      "File \u001b[0;32m~/miniforge3/envs/tensorflow/lib/python3.8/site-packages/numpy/lib/npyio.py:390\u001b[0m, in \u001b[0;36mload\u001b[0;34m(file, mmap_mode, allow_pickle, fix_imports, encoding)\u001b[0m\n\u001b[1;32m    388\u001b[0m     own_fid \u001b[38;5;241m=\u001b[39m \u001b[38;5;28;01mFalse\u001b[39;00m\n\u001b[1;32m    389\u001b[0m \u001b[38;5;28;01melse\u001b[39;00m:\n\u001b[0;32m--> 390\u001b[0m     fid \u001b[38;5;241m=\u001b[39m stack\u001b[38;5;241m.\u001b[39menter_context(\u001b[38;5;28;43mopen\u001b[39;49m\u001b[43m(\u001b[49m\u001b[43mos_fspath\u001b[49m\u001b[43m(\u001b[49m\u001b[43mfile\u001b[49m\u001b[43m)\u001b[49m\u001b[43m,\u001b[49m\u001b[43m \u001b[49m\u001b[38;5;124;43m\"\u001b[39;49m\u001b[38;5;124;43mrb\u001b[39;49m\u001b[38;5;124;43m\"\u001b[39;49m\u001b[43m)\u001b[49m)\n\u001b[1;32m    391\u001b[0m     own_fid \u001b[38;5;241m=\u001b[39m \u001b[38;5;28;01mTrue\u001b[39;00m\n\u001b[1;32m    393\u001b[0m \u001b[38;5;66;03m# Code to distinguish from NumPy binary files and pickles.\u001b[39;00m\n",
      "\u001b[0;31mFileNotFoundError\u001b[0m: [Errno 2] No such file or directory: 'time.npy'"
     ]
    }
   ],
   "source": [
    "import numpy as np\n",
    "\n",
    "# create a regression model\n",
    "model4=Sequential()\n",
    "model4.add(Dense(50, input_shape=(1,)))\n",
    "model4.add(Dense(50, activation='relu'))\n",
    "model4.add(Dense(50, activation='relu'))\n",
    "model4.add(Dense(1))\n",
    "\n",
    "model4.compile(optimizer='adam', loss='mse')\n",
    "\n",
    "X=np.load('time.npy')\n",
    "y=np.load('positions.npy')"
   ]
  },
  {
   "cell_type": "code",
   "execution_count": null,
   "id": "c2240609",
   "metadata": {},
   "outputs": [],
   "source": [
    "X.shape"
   ]
  },
  {
   "cell_type": "code",
   "execution_count": null,
   "id": "ab55d114",
   "metadata": {},
   "outputs": [],
   "source": [
    "model4.fit(x, y, epochs=30)"
   ]
  }
 ],
 "metadata": {
  "kernelspec": {
   "display_name": "Python 3 (ipykernel)",
   "language": "python",
   "name": "python3"
  },
  "language_info": {
   "codemirror_mode": {
    "name": "ipython",
    "version": 3
   },
   "file_extension": ".py",
   "mimetype": "text/x-python",
   "name": "python",
   "nbconvert_exporter": "python",
   "pygments_lexer": "ipython3",
   "version": "3.8.13"
  },
  "vscode": {
   "interpreter": {
    "hash": "cc94bf94688c7044e980cb54bb4640996b3a7adfb1717c0a6f3946fe62bdaf76"
   }
  }
 },
 "nbformat": 4,
 "nbformat_minor": 5
}
