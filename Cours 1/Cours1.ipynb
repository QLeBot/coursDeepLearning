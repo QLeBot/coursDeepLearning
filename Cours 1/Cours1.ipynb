{
 "cells": [
  {
   "cell_type": "code",
   "execution_count": 2,
   "id": "827af5ac",
   "metadata": {},
   "outputs": [],
   "source": [
    "import sys\n",
    "\n",
    "import tensorflow.keras\n",
    "import pandas as pd\n",
    "import sklearn as sk\n",
    "import scipy as sp\n",
    "import tensorflow as tf\n",
    "import platform"
   ]
  },
  {
   "cell_type": "markdown",
   "id": "994454d9",
   "metadata": {},
   "source": [
    "#CHECK ENV AND GPU AVAILABLE"
   ]
  },
  {
   "cell_type": "code",
   "execution_count": 3,
   "id": "fffc67eb",
   "metadata": {},
   "outputs": [
    {
     "name": "stdout",
     "output_type": "stream",
     "text": [
      "Python Platform: macOS-12.6-arm64-arm-64bit\n",
      "Tensor Flow Version: 2.10.0\n",
      "Keras Version: 2.10.0\n",
      "\n",
      "Python 3.8.13 | packaged by conda-forge | (default, Mar 25 2022, 06:05:16) \n",
      "[Clang 12.0.1 ]\n",
      "Pandas 1.5.0\n",
      "Scikit-Learn 1.1.2\n",
      "SciPy 1.9.1\n",
      "GPU is available\n"
     ]
    }
   ],
   "source": [
    "print(f\"Python Platform: {platform.platform()}\")\n",
    "print(f\"Tensor Flow Version: {tf.__version__}\")\n",
    "print(f\"Keras Version: {tensorflow.keras.__version__}\")\n",
    "print()\n",
    "print(f\"Python {sys.version}\")\n",
    "print(f\"Pandas {pd.__version__}\")\n",
    "print(f\"Scikit-Learn {sk.__version__}\")\n",
    "print(f\"SciPy {sp.__version__}\")\n",
    "gpu = len(tf.config.list_physical_devices('GPU'))>0\n",
    "print(\"GPU is\", \"available\" if gpu else \"NOT AVAILABLE\")"
   ]
  },
  {
   "cell_type": "code",
   "execution_count": 4,
   "id": "733e3906",
   "metadata": {},
   "outputs": [],
   "source": [
    "from keras.models import Sequential\n",
    "from keras.layers import Dense"
   ]
  },
  {
   "cell_type": "markdown",
   "id": "de448986",
   "metadata": {},
   "source": [
    "COURS 1"
   ]
  },
  {
   "cell_type": "markdown",
   "id": "d528ca21",
   "metadata": {},
   "source": [
    "Exercice 1"
   ]
  },
  {
   "cell_type": "markdown",
   "id": "833974da",
   "metadata": {},
   "source": [
    "Dans ce premier exercice, on veut créer un réseau de neurones séquentiel simple en utilisant\n",
    "Keras.\n",
    "Le réseau contient deux nombres en entrée, une couche cachée de 10 neurones et, pour finir,\n",
    "un seul nombre non-contraint en sortie.\n",
    "Une sortie non contrainte est obtenue en évitant de définir une fonction d'activation dans la\n",
    "couche de sortie. Ceci est utile pour des problèmes de régression dont la tâche est de prédire\n",
    "une quantité continue."
   ]
  },
  {
   "cell_type": "code",
   "execution_count": 5,
   "id": "ce4b03a3",
   "metadata": {},
   "outputs": [
    {
     "name": "stdout",
     "output_type": "stream",
     "text": [
      "Metal device set to: Apple M1\n"
     ]
    },
    {
     "name": "stderr",
     "output_type": "stream",
     "text": [
      "2022-10-06 12:09:08.681932: I tensorflow/core/common_runtime/pluggable_device/pluggable_device_factory.cc:306] Could not identify NUMA node of platform GPU ID 0, defaulting to 0. Your kernel may not have been built with NUMA support.\n",
      "2022-10-06 12:09:08.682149: I tensorflow/core/common_runtime/pluggable_device/pluggable_device_factory.cc:272] Created TensorFlow device (/job:localhost/replica:0/task:0/device:GPU:0 with 0 MB memory) -> physical PluggableDevice (device: 0, name: METAL, pci bus id: <undefined>)\n"
     ]
    }
   ],
   "source": [
    "model1=Sequential()\n",
    "model1.add(Dense(10, input_shape=(2,)))\n",
    "model1.add(Dense(1))"
   ]
  },
  {
   "cell_type": "markdown",
   "id": "b2ffb9c3",
   "metadata": {},
   "source": [
    "Exercice 2"
   ]
  },
  {
   "cell_type": "markdown",
   "id": "56c39b23",
   "metadata": {},
   "source": [
    "Créer un nouveau modèle séquentiel de 3 couches : une couche d’entrée à 3 neurones, une\n",
    "couche cachée de 5 neurones avec une fonction d’activation relu et un neurone en sortie.\n",
    "1) Le réseau a combien de paramètres ? Expliquer.\n",
    "2) Afficher les paramètres des deux couches denses du réseau."
   ]
  },
  {
   "cell_type": "code",
   "execution_count": 6,
   "id": "d045b591",
   "metadata": {},
   "outputs": [
    {
     "name": "stdout",
     "output_type": "stream",
     "text": [
      "Model: \"sequential_1\"\n",
      "_________________________________________________________________\n",
      " Layer (type)                Output Shape              Param #   \n",
      "=================================================================\n",
      " dense_2 (Dense)             (None, 5)                 20        \n",
      "                                                                 \n",
      " dense_3 (Dense)             (None, 1)                 6         \n",
      "                                                                 \n",
      "=================================================================\n",
      "Total params: 26\n",
      "Trainable params: 26\n",
      "Non-trainable params: 0\n",
      "_________________________________________________________________\n"
     ]
    }
   ],
   "source": [
    "model2=Sequential()\n",
    "model2.add(Dense(5, input_shape=(3,), activation='relu'))\n",
    "model2.add(Dense(1))\n",
    "model2.summary()"
   ]
  },
  {
   "cell_type": "markdown",
   "id": "9a5e2971",
   "metadata": {},
   "source": [
    "Exercice 3"
   ]
  },
  {
   "cell_type": "markdown",
   "id": "2af9313a",
   "metadata": {},
   "source": [
    "1) Initialiser les poids à 1 et les biais à 0 de la couche cachée.\n",
    "2) Calculer les activations de la couche cachée et vérifier le résultat par programme pour\n",
    "les deux exemples : (0.5 , 3) et (-0.75 , 1)."
   ]
  },
  {
   "cell_type": "code",
   "execution_count": null,
   "id": "a4dc3ae3",
   "metadata": {},
   "outputs": [],
   "source": [
    "from tensorflow.keras import initializers\n",
    "import numpy as np \n",
    "\n",
    "#model3.add(tf.keras.Input(shape=(2,)))\n",
    "\n",
    "model3 = keras.Sequential([layers.Dense(3, input_shape=(2,),kernel_initializer='ones',bias_initializer='zeros',activation=\"relu\", name='hidden_layer'),\n",
    "                          layers.Dense(1, name=\"couche_sortie\")])\n",
    "\n",
    "from keras.models import Model\n",
    "\n",
    "hiddenLayerOutput=Model(inputs=model3.layers[0].input,outputs=model3.layers[0].output)\n",
    "hiddenLayerOutput.predict([[.5,3],[-0.75,1]])\n",
    "\n",
    "#x=tf.constant([[.5,3],[-.75,1]], dtype=tf.float64)\n",
    "#model3.predict(x)"
   ]
  },
  {
   "cell_type": "markdown",
   "id": "210f0435",
   "metadata": {},
   "source": [
    "Exercice 4"
   ]
  },
  {
   "cell_type": "markdown",
   "id": "046bf341",
   "metadata": {},
   "source": [
    "L’objectif de cet exercice est de construire un modèle de régression simple pour prévoir\n",
    "l’orbite d’un météore.\n",
    "Les données d'apprentissage sont constituées de mesures effectuées dans l’intervalles -10\n",
    "minutes avant l'impact jusqu'à +10 minutes après l’impact. Chaque pas de temps peut être vu\n",
    "comme une abscisse temps dans le graphique de la figure 2, au quelle une ordonnée est\n",
    "associée pour renseigner la position du météore à un instant donné.\n",
    "\n",
    "Les données d’apprentissage sont enregistrées dans deux tableaux numpy : time.npy\n",
    "représentant les caractéristiques et positions.npy contenant les sorties.\n",
    "1) Créer un modèle séquentiel avec une couche dense de 50 neurones.\n",
    "2) Ajouter deux autres couches denses de 50 neurones chacune avec relu comme\n",
    "fonction d’activation.\n",
    "3) Ajouter la couche de sortie et définir ses paramètres.\n",
    "4) Configurer le modèle d’apprentissage en utilisant l’optimisateur adam et l’erreur\n",
    "quadratique moyenne pour la minimisation d’erreur.\n",
    "5) Entraîner le modèle avec 30 périodes.\n",
    "6) Prédire les valeurs des positions du météore de -10 à 10 minutes.\n",
    "7) Tracer la trajectoire réelle de l’orbite entre -10 et 10 minutes. Tracer la trajectoire\n",
    "prédite par le modèle."
   ]
  },
  {
   "cell_type": "code",
   "execution_count": 4,
   "id": "657075fe",
   "metadata": {},
   "outputs": [],
   "source": [
    "import numpy as np\n",
    "\n",
    "# create a regression model\n",
    "model4=Sequential()\n",
    "model4.add(Dense(50, input_shape=(1,)))\n",
    "model4.add(Dense(50, activation='relu'))\n",
    "model4.add(Dense(50, activation='relu'))\n",
    "model4.add(Dense(1))\n",
    "\n",
    "model4.compile(optimizer='adam', loss='mse')\n",
    "\n",
    "X=np.load('time.npy')\n",
    "y=np.load('positions.npy')"
   ]
  },
  {
   "cell_type": "code",
   "execution_count": 5,
   "id": "c2240609",
   "metadata": {},
   "outputs": [
    {
     "data": {
      "text/plain": [
       "(2000,)"
      ]
     },
     "execution_count": 5,
     "metadata": {},
     "output_type": "execute_result"
    }
   ],
   "source": [
    "X.shape"
   ]
  },
  {
   "cell_type": "code",
   "execution_count": 7,
   "id": "ab55d114",
   "metadata": {},
   "outputs": [
    {
     "name": "stdout",
     "output_type": "stream",
     "text": [
      "Epoch 1/30\n"
     ]
    },
    {
     "name": "stderr",
     "output_type": "stream",
     "text": [
      "2022-10-06 12:12:48.884395: W tensorflow/core/platform/profile_utils/cpu_utils.cc:128] Failed to get CPU frequency: 0 Hz\n",
      "2022-10-06 12:12:49.068570: I tensorflow/core/grappler/optimizers/custom_graph_optimizer_registry.cc:114] Plugin optimizer for device_type GPU is enabled.\n"
     ]
    },
    {
     "name": "stdout",
     "output_type": "stream",
     "text": [
      "63/63 [==============================] - 2s 5ms/step - loss: 1546.9596\n",
      "Epoch 2/30\n",
      "63/63 [==============================] - 0s 5ms/step - loss: 205.3162\n",
      "Epoch 3/30\n",
      "63/63 [==============================] - 0s 5ms/step - loss: 131.4675\n",
      "Epoch 4/30\n",
      "63/63 [==============================] - 0s 5ms/step - loss: 126.1518\n",
      "Epoch 5/30\n",
      "63/63 [==============================] - 0s 5ms/step - loss: 120.9535\n",
      "Epoch 6/30\n",
      "63/63 [==============================] - 0s 5ms/step - loss: 114.1447\n",
      "Epoch 7/30\n",
      "63/63 [==============================] - 0s 5ms/step - loss: 103.3980\n",
      "Epoch 8/30\n",
      "63/63 [==============================] - 0s 5ms/step - loss: 86.7227\n",
      "Epoch 9/30\n",
      "63/63 [==============================] - 0s 5ms/step - loss: 59.6165\n",
      "Epoch 10/30\n",
      "63/63 [==============================] - 0s 5ms/step - loss: 37.6029\n",
      "Epoch 11/30\n",
      "63/63 [==============================] - 0s 5ms/step - loss: 28.3508\n",
      "Epoch 12/30\n",
      "63/63 [==============================] - 0s 5ms/step - loss: 23.1977\n",
      "Epoch 13/30\n",
      "63/63 [==============================] - 0s 5ms/step - loss: 16.5837\n",
      "Epoch 14/30\n",
      "63/63 [==============================] - 0s 5ms/step - loss: 12.4438\n",
      "Epoch 15/30\n",
      "63/63 [==============================] - 0s 5ms/step - loss: 8.7840\n",
      "Epoch 16/30\n",
      "63/63 [==============================] - 0s 5ms/step - loss: 6.2687\n",
      "Epoch 17/30\n",
      "63/63 [==============================] - 0s 5ms/step - loss: 4.2818\n",
      "Epoch 18/30\n",
      "63/63 [==============================] - 0s 5ms/step - loss: 3.1465\n",
      "Epoch 19/30\n",
      "63/63 [==============================] - 0s 5ms/step - loss: 2.4139\n",
      "Epoch 20/30\n",
      "63/63 [==============================] - 0s 5ms/step - loss: 1.7395\n",
      "Epoch 21/30\n",
      "63/63 [==============================] - 0s 5ms/step - loss: 1.1123\n",
      "Epoch 22/30\n",
      "63/63 [==============================] - 0s 5ms/step - loss: 0.8459\n",
      "Epoch 23/30\n",
      "63/63 [==============================] - 0s 5ms/step - loss: 0.5938\n",
      "Epoch 24/30\n",
      "63/63 [==============================] - 0s 5ms/step - loss: 0.4336\n",
      "Epoch 25/30\n",
      "63/63 [==============================] - 0s 5ms/step - loss: 0.3562\n",
      "Epoch 26/30\n",
      "63/63 [==============================] - 0s 5ms/step - loss: 0.2350\n",
      "Epoch 27/30\n",
      "63/63 [==============================] - 0s 5ms/step - loss: 0.3017\n",
      "Epoch 28/30\n",
      "63/63 [==============================] - 0s 5ms/step - loss: 0.1545\n",
      "Epoch 29/30\n",
      "63/63 [==============================] - 0s 5ms/step - loss: 0.1396\n",
      "Epoch 30/30\n",
      "63/63 [==============================] - 0s 5ms/step - loss: 0.1207\n"
     ]
    },
    {
     "data": {
      "text/plain": [
       "<keras.callbacks.History at 0x17ea91970>"
      ]
     },
     "execution_count": 7,
     "metadata": {},
     "output_type": "execute_result"
    }
   ],
   "source": [
    "model4.fit(X, y, epochs=30)"
   ]
  },
  {
   "cell_type": "code",
   "execution_count": 8,
   "id": "fa9d91a0",
   "metadata": {},
   "outputs": [],
   "source": [
    "X_test=np.arange(-10,11)"
   ]
  },
  {
   "cell_type": "code",
   "execution_count": 9,
   "id": "638351d7",
   "metadata": {},
   "outputs": [
    {
     "data": {
      "text/plain": [
       "array([-10,  -9,  -8,  -7,  -6,  -5,  -4,  -3,  -2,  -1,   0,   1,   2,\n",
       "         3,   4,   5,   6,   7,   8,   9,  10])"
      ]
     },
     "execution_count": 9,
     "metadata": {},
     "output_type": "execute_result"
    }
   ],
   "source": [
    "X_test"
   ]
  },
  {
   "cell_type": "code",
   "execution_count": 10,
   "id": "1228ed94",
   "metadata": {},
   "outputs": [
    {
     "name": "stdout",
     "output_type": "stream",
     "text": [
      "1/1 [==============================] - 0s 79ms/step\n"
     ]
    },
    {
     "name": "stderr",
     "output_type": "stream",
     "text": [
      "2022-10-06 12:17:15.324058: I tensorflow/core/grappler/optimizers/custom_graph_optimizer_registry.cc:114] Plugin optimizer for device_type GPU is enabled.\n"
     ]
    }
   ],
   "source": [
    "y_pred=model4.predict(X_test)"
   ]
  },
  {
   "cell_type": "code",
   "execution_count": 14,
   "id": "b2f5ec37",
   "metadata": {},
   "outputs": [
    {
     "data": {
      "text/plain": [
       "<matplotlib.legend.Legend at 0x284839a00>"
      ]
     },
     "execution_count": 14,
     "metadata": {},
     "output_type": "execute_result"
    },
    {
     "data": {
      "image/png": "[encoded data removed]",
      "text/plain": [
       "<Figure size 640x480 with 1 Axes>"
      ]
     },
     "metadata": {},
     "output_type": "display_data"
    }
   ],
   "source": [
    "import matplotlib.pyplot as plt\n",
    "\n",
    "plt.plot(X, y, color='blue')\n",
    "\n",
    "plt.plot(X_test, y_pred, color='red')\n",
    "\n",
    "plt.legend(['Real trajectory', 'Predicted trajectory'])"
   ]
  }
 ],
 "metadata": {
  "kernelspec": {
   "display_name": "Python 3 (ipykernel)",
   "language": "python",
   "name": "python3"
  },
  "language_info": {
   "codemirror_mode": {
    "name": "ipython",
    "version": 3
   },
   "file_extension": ".py",
   "mimetype": "text/x-python",
   "name": "python",
   "nbconvert_exporter": "python",
   "pygments_lexer": "ipython3",
   "version": "3.8.13"
  },
  "vscode": {
   "interpreter": {
    "hash": "cc94bf94688c7044e980cb54bb4640996b3a7adfb1717c0a6f3946fe62bdaf76"
   }
  }
 },
 "nbformat": 4,
 "nbformat_minor": 5
}
